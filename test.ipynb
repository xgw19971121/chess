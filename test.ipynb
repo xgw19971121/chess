{
 "cells": [
  {
   "cell_type": "code",
   "execution_count": 6,
   "metadata": {},
   "outputs": [],
   "source": [
    "import numpy as np\n",
    "from scipy.ndimage import label as CCL"
   ]
  },
  {
   "cell_type": "code",
   "execution_count": 5,
   "metadata": {},
   "outputs": [],
   "source": [
    "def CalcQi(component, board):\n",
    "    '''计算一块棋的气'''\n",
    "    qi = 0    \n",
    "    zeros = np.where(board == 0)   \n",
    "    for n in range(len(zeros[0])):\n",
    "        i,j = zeros[0][n], zeros[1][n]\n",
    "        if i < np.min(component[0])-1 or i > np.max(component[0])+1: continue\n",
    "        if j < np.min(component[1])-1 or j > np.max(component[1])+1: continue\n",
    "        exit_flag = 0\n",
    "        for offset in [[0, -1], [1, 0], [-1, 0], [0, 1]]:\n",
    "            i2, j2 = i + offset[0], j + offset[1]\n",
    "            if 0 <= i2 < MapL and 0 <= j2 < MapL:\n",
    "                for m in range(len(component[0])):\n",
    "                    if i2 == component[0][m] and component[1][m] == j2:\n",
    "                        qi += 1\n",
    "                        if (min(i,j)==0 or max(i,j)==MapL-1) and (min(i2,j2)==0 or max(i2,j2)==MapL-1):\n",
    "                            qi += 0.15\n",
    "                        exit_flag = True\n",
    "                        break\n",
    "            if exit_flag: break                \n",
    "    return qi\n",
    "\n",
    "def tizi(board):\n",
    "    '''提子，返回提子的数量'''\n",
    "    #print(\"tizi\")\n",
    "    tizi_nums = [0,0]\n",
    "    board_0 = board.copy()\n",
    "    for n, player in enumerate([1+step%2, 2-step%2]):\n",
    "        board_1 = board_0 == player\n",
    "        components = CCL(board_1)[0]\n",
    "        for i in range(int(np.max(components))):\n",
    "            component = np.where(components==i+1)\n",
    "            if CalcQi(component, board) == 0: \n",
    "                tizi_nums[n] += np.shape(component)[1]\n",
    "                if n: board[component] = 0\n",
    "    return tizi_nums"
   ]
  },
  {
   "cell_type": "code",
   "execution_count": 2,
   "metadata": {},
   "outputs": [],
   "source": [
    "arr = np.array([[0,1,0],[1,1,1],[0,1,0]])"
   ]
  },
  {
   "cell_type": "code",
   "execution_count": 7,
   "metadata": {},
   "outputs": [
    {
     "data": {
      "text/plain": [
       "array([[0, 1, 0],\n",
       "       [1, 1, 1],\n",
       "       [0, 1, 0]])"
      ]
     },
     "execution_count": 7,
     "metadata": {},
     "output_type": "execute_result"
    }
   ],
   "source": [
    "CCL(arr)[0]"
   ]
  },
  {
   "cell_type": "code",
   "execution_count": 16,
   "metadata": {},
   "outputs": [],
   "source": [
    "a = np.array([[0,0,1,1,0,0],\n",
    "              [0,0,0,1,0,0],\n",
    "              [1,1,0,0,1,0],\n",
    "              [0,0,0,1,0,0]])\n",
    "b = CCL(a)[0]"
   ]
  },
  {
   "cell_type": "code",
   "execution_count": 17,
   "metadata": {},
   "outputs": [],
   "source": [
    "components = np.where(b == 2)"
   ]
  },
  {
   "cell_type": "code",
   "execution_count": 18,
   "metadata": {},
   "outputs": [
    {
     "data": {
      "text/plain": [
       "(array([2, 2], dtype=int64), array([0, 1], dtype=int64))"
      ]
     },
     "execution_count": 18,
     "metadata": {},
     "output_type": "execute_result"
    }
   ],
   "source": [
    "components"
   ]
  },
  {
   "cell_type": "code",
   "execution_count": 15,
   "metadata": {},
   "outputs": [
    {
     "data": {
      "text/plain": [
       "(array([[0, 0, 1, 1, 0, 0],\n",
       "        [0, 0, 0, 1, 0, 0],\n",
       "        [2, 2, 0, 0, 3, 0],\n",
       "        [0, 0, 0, 4, 0, 0]]),\n",
       " 4)"
      ]
     },
     "execution_count": 15,
     "metadata": {},
     "output_type": "execute_result"
    }
   ],
   "source": [
    "b"
   ]
  },
  {
   "cell_type": "code",
   "execution_count": 13,
   "metadata": {},
   "outputs": [
    {
     "name": "stdout",
     "output_type": "stream",
     "text": [
      "[0, 1]\n",
      "[1, 2]\n"
     ]
    }
   ],
   "source": [
    "step = 52\n",
    "for n, player in enumerate([1+step%2, 2-step%2]):\n",
    "    print([n, player])"
   ]
  },
  {
   "cell_type": "code",
   "execution_count": 6,
   "metadata": {},
   "outputs": [
    {
     "data": {
      "text/plain": [
       "0"
      ]
     },
     "execution_count": 6,
     "metadata": {},
     "output_type": "execute_result"
    }
   ],
   "source": [
    "not 0 and 0"
   ]
  },
  {
   "cell_type": "code",
   "execution_count": 14,
   "metadata": {},
   "outputs": [],
   "source": [
    "a = ()"
   ]
  },
  {
   "cell_type": "code",
   "execution_count": 15,
   "metadata": {},
   "outputs": [
    {
     "data": {
      "text/plain": [
       "()"
      ]
     },
     "execution_count": 15,
     "metadata": {},
     "output_type": "execute_result"
    }
   ],
   "source": [
    "a"
   ]
  },
  {
   "cell_type": "code",
   "execution_count": 19,
   "metadata": {},
   "outputs": [
    {
     "data": {
      "text/plain": [
       "True"
      ]
     },
     "execution_count": 19,
     "metadata": {},
     "output_type": "execute_result"
    }
   ],
   "source": [
    "a == ()"
   ]
  },
  {
   "cell_type": "code",
   "execution_count": null,
   "metadata": {},
   "outputs": [],
   "source": []
  }
 ],
 "metadata": {
  "kernelspec": {
   "display_name": "base",
   "language": "python",
   "name": "python3"
  },
  "language_info": {
   "codemirror_mode": {
    "name": "ipython",
    "version": 3
   },
   "file_extension": ".py",
   "mimetype": "text/x-python",
   "name": "python",
   "nbconvert_exporter": "python",
   "pygments_lexer": "ipython3",
   "version": "3.9.12"
  },
  "orig_nbformat": 4,
  "vscode": {
   "interpreter": {
    "hash": "ad2bdc8ecc057115af97d19610ffacc2b4e99fae6737bb82f5d7fb13d2f2c186"
   }
  }
 },
 "nbformat": 4,
 "nbformat_minor": 2
}
